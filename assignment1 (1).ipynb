{
 "cells": [
  {
   "cell_type": "code",
   "execution_count": 1,
   "id": "b0315ac4-ed17-43b8-a7e7-a87bd525e007",
   "metadata": {},
   "outputs": [
    {
     "name": "stdout",
     "output_type": "stream",
     "text": [
      "['Bill Gates', 'Billie Eilish']\n",
      "0\n",
      "1\n",
      "2\n",
      "3\n",
      "4\n",
      "5\n",
      "6\n",
      "7\n",
      "8\n",
      "9\n"
     ]
    }
   ],
   "source": [
    "# Q!>\n",
    "\"\"\".A for loop is a type of loop that runs for a preset number of times. It also has the ability to iterate over the items\n",
    "# of any sequence, such as a list or a string. lets see if in the program we want to print a number 1 to 1 lakh so its noy\n",
    "#compatabile to print 1 to 1 lakh so onbehalf of this we use loop\"\"\"\n",
    "\n",
    "# ex\n",
    "names = [\"Bill Gates\", \"Billie Eilish\", \"Mark Zuckerberg\", \"Hussain\"]\n",
    "namesWithB = [name for name in names if \"B\" in name]\n",
    "print(namesWithB)\n",
    "\n",
    "#With the while loop, we can execute a block of code as long as a condition is true.\n",
    "\n",
    "n = 0\n",
    "while n < 10: # while n is less than 10,\n",
    "    print(n) # print out the value of n \n",
    "    n += 1 "
   ]
  },
  {
   "cell_type": "code",
   "execution_count": 2,
   "id": "f06f5a7a-c13f-42ac-b8d8-b913583fb54b",
   "metadata": {},
   "outputs": [
    {
     "name": "stdout",
     "output_type": "stream",
     "text": [
      "the sum of first 10 natural numbers is using for loop: 55\n",
      "the multiply first 10 natural numbers is using for loop: 3628800\n"
     ]
    }
   ],
   "source": [
    "# question2:\n",
    "# using for loop:\n",
    "# sum of all the 10 natural number\n",
    "sum =0\n",
    "for i in range(1,11):\n",
    "\n",
    "   sum= sum +i\n",
    "print(\"the sum of first 10 natural numbers is using for loop:\",sum)\n",
    "#using for loop multiply of 10 natural number\n",
    "multiply = 1\n",
    "for i in range(1,11):\n",
    "    \n",
    "  \n",
    "    multiply = multiply*i\n",
    "print(\"the multiply first 10 natural numbers is using for loop:\",multiply)"
   ]
  },
  {
   "cell_type": "code",
   "execution_count": 3,
   "id": "5aeb3584-3bd7-4032-8107-03c77b4dfe22",
   "metadata": {},
   "outputs": [
    {
     "name": "stdout",
     "output_type": "stream",
     "text": [
      "the sum of first 10 natural numbers is using while loop: 55\n",
      "the sum of first 10 natural numbers is using while loop: 3628800\n"
     ]
    }
   ],
   "source": [
    "# # question2:\n",
    "# # using while loop:\n",
    "num =10\n",
    "sum = 0\n",
    "while num >= 0:\n",
    "   sum+=num\n",
    "   num=num-1\n",
    "   \n",
    "print(\"the sum of first 10 natural numbers is using while loop:\",sum)\n",
    "\n",
    "num1 =10\n",
    "multiply = 1\n",
    "while num1 >= 1:\n",
    "   multiply*=num1\n",
    "   num1=num1-1\n",
    "   \n",
    "print(\"the sum of first 10 natural numbers is using while loop:\",multiply)"
   ]
  },
  {
   "cell_type": "code",
   "execution_count": 6,
   "id": "87e19c0c-edd2-46a0-a8a5-67dfb68f8f19",
   "metadata": {},
   "outputs": [
    {
     "name": "stdout",
     "output_type": "stream",
     "text": [
      "[3, 5, 6, 9, 10, 12, 15, 18, 20, 21, 24, 25, 27, 30, 33, 35, 36, 39, 40, 42, 45, 48, 50, 51, 54, 55, 57, 60, 63, 65, 66, 69, 70, 72, 75, 78, 80, 81, 84, 85, 87, 90, 93, 95, 96, 99]\n"
     ]
    }
   ],
   "source": [
    "# Question:4\n",
    "# using for loop\n",
    "cubes = []\n",
    "for i in range (1,100): \n",
    "   calculate = i*i*i\n",
    "   if calculate %3 ==0 or calculate % 5== 0: \n",
    "    cubes.append(i)\n",
    "print(cubes)\n",
    "\n",
    "\n",
    "\n"
   ]
  },
  {
   "cell_type": "code",
   "execution_count": 7,
   "id": "cf06a8ca-4322-444a-ba6d-5ea7651708e3",
   "metadata": {},
   "outputs": [
    {
     "name": "stdout",
     "output_type": "stream",
     "text": [
      "Numbers of vowels in string =  12\n"
     ]
    }
   ],
   "source": [
    "# Qustion :5\n",
    "\n",
    "\n",
    "string = \"i want to become a data scientist\"\n",
    "count = 0\n",
    "i = 0\n",
    "for i in range (len(string)):\n",
    "   if (string[i] ==\"a\") or (string[i]==\"e\") or (string[i]==\"i\") or (string[i]==\"o\")or (string[i]==\"u\"):\n",
    "      count+=1\n",
    "print(\"Numbers of vowels in string = \", count)"
   ]
  },
  {
   "cell_type": "code",
   "execution_count": 9,
   "id": "dff10be0-4d80-47b5-8a18-27906d31e203",
   "metadata": {},
   "outputs": [
    {
     "name": "stdin",
     "output_type": "stream",
     "text": [
      "enter units consumed : 310\n"
     ]
    },
    {
     "name": "stdout",
     "output_type": "stream",
     "text": [
      "2250.0\n"
     ]
    }
   ],
   "source": [
    "#Question 6\n",
    "units = int(input(\"enter units consumed :\"))\n",
    "if units<=100:\n",
    "    print(4.5*units)\n",
    "            \n",
    "if units >100 and units<200:\n",
    "    first = 4.5 * 100\n",
    "    print(first + second)\n",
    "            \n",
    "if units >200 and units <= 300:\n",
    "    first = 4.5* 100\n",
    "    second= (units-100)*6\n",
    "    print(first + second )\n",
    "            \n",
    "if units>300:\n",
    "    first =  4.5 * 100 + 6*100 + 10*100\n",
    "    second = (units-300) * 20 \n",
    "    print(first + second)\n",
    "            \n",
    "    \n",
    "            \n",
    "            \n",
    "            \n",
    "            "
   ]
  },
  {
   "cell_type": "code",
   "execution_count": null,
   "id": "720855de-4c71-4d82-8cde-6d391b0d0a6d",
   "metadata": {},
   "outputs": [],
   "source": []
  }
 ],
 "metadata": {
  "kernelspec": {
   "display_name": "Python 3 (ipykernel)",
   "language": "python",
   "name": "python3"
  },
  "language_info": {
   "codemirror_mode": {
    "name": "ipython",
    "version": 3
   },
   "file_extension": ".py",
   "mimetype": "text/x-python",
   "name": "python",
   "nbconvert_exporter": "python",
   "pygments_lexer": "ipython3",
   "version": "3.10.8"
  }
 },
 "nbformat": 4,
 "nbformat_minor": 5
}
